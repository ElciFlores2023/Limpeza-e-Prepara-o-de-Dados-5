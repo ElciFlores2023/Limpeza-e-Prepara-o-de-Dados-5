{
 "cells": [
  {
   "cell_type": "markdown",
   "metadata": {},
   "source": [
    "    Importando Bibliotecas"
   ]
  },
  {
   "cell_type": "code",
   "execution_count": 1,
   "metadata": {},
   "outputs": [],
   "source": [
    "import pandas as pd\n",
    "import numpy as np"
   ]
  },
  {
   "cell_type": "markdown",
   "metadata": {},
   "source": [
    "Contruindo DataFrame"
   ]
  },
  {
   "cell_type": "code",
   "execution_count": 2,
   "metadata": {},
   "outputs": [],
   "source": [
    "df = pd.DataFrame(np.random.randint(100000, size=(1000000, 10)),\n",
    "             columns=['A', 'B', 'C', 'D', 'E', 'F', 'G', 'H', 'I', 'J'])"
   ]
  },
  {
   "cell_type": "markdown",
   "metadata": {},
   "source": [
    "Amostragem"
   ]
  },
  {
   "cell_type": "code",
   "execution_count": 3,
   "metadata": {},
   "outputs": [
    {
     "data": {
      "text/plain": [
       "(1000000, 10)"
      ]
     },
     "execution_count": 3,
     "metadata": {},
     "output_type": "execute_result"
    }
   ],
   "source": [
    "df.shape"
   ]
  },
  {
   "cell_type": "code",
   "execution_count": 5,
   "metadata": {},
   "outputs": [
    {
     "data": {
      "text/html": [
       "<div>\n",
       "<style scoped>\n",
       "    .dataframe tbody tr th:only-of-type {\n",
       "        vertical-align: middle;\n",
       "    }\n",
       "\n",
       "    .dataframe tbody tr th {\n",
       "        vertical-align: top;\n",
       "    }\n",
       "\n",
       "    .dataframe thead th {\n",
       "        text-align: right;\n",
       "    }\n",
       "</style>\n",
       "<table border=\"1\" class=\"dataframe\">\n",
       "  <thead>\n",
       "    <tr style=\"text-align: right;\">\n",
       "      <th></th>\n",
       "      <th>A</th>\n",
       "      <th>B</th>\n",
       "      <th>C</th>\n",
       "      <th>D</th>\n",
       "      <th>E</th>\n",
       "      <th>F</th>\n",
       "      <th>G</th>\n",
       "      <th>H</th>\n",
       "      <th>I</th>\n",
       "      <th>J</th>\n",
       "    </tr>\n",
       "  </thead>\n",
       "  <tbody>\n",
       "    <tr>\n",
       "      <th>0</th>\n",
       "      <td>40197</td>\n",
       "      <td>6977</td>\n",
       "      <td>26791</td>\n",
       "      <td>18361</td>\n",
       "      <td>29248</td>\n",
       "      <td>32431</td>\n",
       "      <td>61399</td>\n",
       "      <td>39427</td>\n",
       "      <td>44090</td>\n",
       "      <td>19878</td>\n",
       "    </tr>\n",
       "    <tr>\n",
       "      <th>1</th>\n",
       "      <td>40346</td>\n",
       "      <td>82085</td>\n",
       "      <td>99330</td>\n",
       "      <td>93981</td>\n",
       "      <td>21800</td>\n",
       "      <td>10719</td>\n",
       "      <td>3417</td>\n",
       "      <td>68009</td>\n",
       "      <td>74270</td>\n",
       "      <td>68693</td>\n",
       "    </tr>\n",
       "    <tr>\n",
       "      <th>2</th>\n",
       "      <td>72321</td>\n",
       "      <td>97263</td>\n",
       "      <td>10460</td>\n",
       "      <td>71363</td>\n",
       "      <td>4234</td>\n",
       "      <td>42743</td>\n",
       "      <td>91781</td>\n",
       "      <td>93152</td>\n",
       "      <td>1014</td>\n",
       "      <td>32975</td>\n",
       "    </tr>\n",
       "    <tr>\n",
       "      <th>3</th>\n",
       "      <td>52013</td>\n",
       "      <td>78756</td>\n",
       "      <td>52194</td>\n",
       "      <td>99000</td>\n",
       "      <td>29983</td>\n",
       "      <td>88786</td>\n",
       "      <td>20565</td>\n",
       "      <td>57365</td>\n",
       "      <td>50283</td>\n",
       "      <td>15014</td>\n",
       "    </tr>\n",
       "    <tr>\n",
       "      <th>4</th>\n",
       "      <td>75071</td>\n",
       "      <td>68529</td>\n",
       "      <td>87024</td>\n",
       "      <td>91043</td>\n",
       "      <td>35564</td>\n",
       "      <td>65250</td>\n",
       "      <td>64577</td>\n",
       "      <td>88087</td>\n",
       "      <td>92116</td>\n",
       "      <td>95835</td>\n",
       "    </tr>\n",
       "    <tr>\n",
       "      <th>...</th>\n",
       "      <td>...</td>\n",
       "      <td>...</td>\n",
       "      <td>...</td>\n",
       "      <td>...</td>\n",
       "      <td>...</td>\n",
       "      <td>...</td>\n",
       "      <td>...</td>\n",
       "      <td>...</td>\n",
       "      <td>...</td>\n",
       "      <td>...</td>\n",
       "    </tr>\n",
       "    <tr>\n",
       "      <th>95</th>\n",
       "      <td>10761</td>\n",
       "      <td>64832</td>\n",
       "      <td>20424</td>\n",
       "      <td>29837</td>\n",
       "      <td>26591</td>\n",
       "      <td>86450</td>\n",
       "      <td>88840</td>\n",
       "      <td>7052</td>\n",
       "      <td>72321</td>\n",
       "      <td>84585</td>\n",
       "    </tr>\n",
       "    <tr>\n",
       "      <th>96</th>\n",
       "      <td>95407</td>\n",
       "      <td>7862</td>\n",
       "      <td>75579</td>\n",
       "      <td>10233</td>\n",
       "      <td>38899</td>\n",
       "      <td>15794</td>\n",
       "      <td>70210</td>\n",
       "      <td>40345</td>\n",
       "      <td>15501</td>\n",
       "      <td>6511</td>\n",
       "    </tr>\n",
       "    <tr>\n",
       "      <th>97</th>\n",
       "      <td>72145</td>\n",
       "      <td>23679</td>\n",
       "      <td>44928</td>\n",
       "      <td>75457</td>\n",
       "      <td>1864</td>\n",
       "      <td>89102</td>\n",
       "      <td>16968</td>\n",
       "      <td>5096</td>\n",
       "      <td>21691</td>\n",
       "      <td>25658</td>\n",
       "    </tr>\n",
       "    <tr>\n",
       "      <th>98</th>\n",
       "      <td>6271</td>\n",
       "      <td>28467</td>\n",
       "      <td>41248</td>\n",
       "      <td>60721</td>\n",
       "      <td>27093</td>\n",
       "      <td>62626</td>\n",
       "      <td>94144</td>\n",
       "      <td>99495</td>\n",
       "      <td>18213</td>\n",
       "      <td>52263</td>\n",
       "    </tr>\n",
       "    <tr>\n",
       "      <th>99</th>\n",
       "      <td>87132</td>\n",
       "      <td>49547</td>\n",
       "      <td>8634</td>\n",
       "      <td>99085</td>\n",
       "      <td>54086</td>\n",
       "      <td>31701</td>\n",
       "      <td>28637</td>\n",
       "      <td>23085</td>\n",
       "      <td>49076</td>\n",
       "      <td>48531</td>\n",
       "    </tr>\n",
       "  </tbody>\n",
       "</table>\n",
       "<p>100 rows × 10 columns</p>\n",
       "</div>"
      ],
      "text/plain": [
       "        A      B      C      D      E      F      G      H      I      J\n",
       "0   40197   6977  26791  18361  29248  32431  61399  39427  44090  19878\n",
       "1   40346  82085  99330  93981  21800  10719   3417  68009  74270  68693\n",
       "2   72321  97263  10460  71363   4234  42743  91781  93152   1014  32975\n",
       "3   52013  78756  52194  99000  29983  88786  20565  57365  50283  15014\n",
       "4   75071  68529  87024  91043  35564  65250  64577  88087  92116  95835\n",
       "..    ...    ...    ...    ...    ...    ...    ...    ...    ...    ...\n",
       "95  10761  64832  20424  29837  26591  86450  88840   7052  72321  84585\n",
       "96  95407   7862  75579  10233  38899  15794  70210  40345  15501   6511\n",
       "97  72145  23679  44928  75457   1864  89102  16968   5096  21691  25658\n",
       "98   6271  28467  41248  60721  27093  62626  94144  99495  18213  52263\n",
       "99  87132  49547   8634  99085  54086  31701  28637  23085  49076  48531\n",
       "\n",
       "[100 rows x 10 columns]"
      ]
     },
     "execution_count": 5,
     "metadata": {},
     "output_type": "execute_result"
    }
   ],
   "source": [
    "df.head(100)"
   ]
  },
  {
   "cell_type": "code",
   "execution_count": 6,
   "metadata": {},
   "outputs": [
    {
     "data": {
      "text/html": [
       "<div>\n",
       "<style scoped>\n",
       "    .dataframe tbody tr th:only-of-type {\n",
       "        vertical-align: middle;\n",
       "    }\n",
       "\n",
       "    .dataframe tbody tr th {\n",
       "        vertical-align: top;\n",
       "    }\n",
       "\n",
       "    .dataframe thead th {\n",
       "        text-align: right;\n",
       "    }\n",
       "</style>\n",
       "<table border=\"1\" class=\"dataframe\">\n",
       "  <thead>\n",
       "    <tr style=\"text-align: right;\">\n",
       "      <th></th>\n",
       "      <th>A</th>\n",
       "      <th>B</th>\n",
       "      <th>C</th>\n",
       "      <th>D</th>\n",
       "      <th>E</th>\n",
       "      <th>F</th>\n",
       "      <th>G</th>\n",
       "      <th>H</th>\n",
       "      <th>I</th>\n",
       "      <th>J</th>\n",
       "    </tr>\n",
       "  </thead>\n",
       "  <tbody>\n",
       "    <tr>\n",
       "      <th>999900</th>\n",
       "      <td>98281</td>\n",
       "      <td>41502</td>\n",
       "      <td>49877</td>\n",
       "      <td>80921</td>\n",
       "      <td>8065</td>\n",
       "      <td>23488</td>\n",
       "      <td>35587</td>\n",
       "      <td>42083</td>\n",
       "      <td>56840</td>\n",
       "      <td>56227</td>\n",
       "    </tr>\n",
       "    <tr>\n",
       "      <th>999901</th>\n",
       "      <td>37619</td>\n",
       "      <td>20477</td>\n",
       "      <td>61542</td>\n",
       "      <td>63058</td>\n",
       "      <td>81063</td>\n",
       "      <td>78206</td>\n",
       "      <td>29453</td>\n",
       "      <td>30271</td>\n",
       "      <td>60031</td>\n",
       "      <td>58651</td>\n",
       "    </tr>\n",
       "    <tr>\n",
       "      <th>999902</th>\n",
       "      <td>72632</td>\n",
       "      <td>39510</td>\n",
       "      <td>22331</td>\n",
       "      <td>7813</td>\n",
       "      <td>6913</td>\n",
       "      <td>70018</td>\n",
       "      <td>64631</td>\n",
       "      <td>3664</td>\n",
       "      <td>43421</td>\n",
       "      <td>8763</td>\n",
       "    </tr>\n",
       "    <tr>\n",
       "      <th>999903</th>\n",
       "      <td>56431</td>\n",
       "      <td>84921</td>\n",
       "      <td>62941</td>\n",
       "      <td>35817</td>\n",
       "      <td>65902</td>\n",
       "      <td>2915</td>\n",
       "      <td>85993</td>\n",
       "      <td>7202</td>\n",
       "      <td>84318</td>\n",
       "      <td>11904</td>\n",
       "    </tr>\n",
       "    <tr>\n",
       "      <th>999904</th>\n",
       "      <td>53312</td>\n",
       "      <td>17729</td>\n",
       "      <td>65510</td>\n",
       "      <td>46363</td>\n",
       "      <td>24543</td>\n",
       "      <td>59926</td>\n",
       "      <td>58930</td>\n",
       "      <td>10492</td>\n",
       "      <td>41404</td>\n",
       "      <td>50710</td>\n",
       "    </tr>\n",
       "    <tr>\n",
       "      <th>...</th>\n",
       "      <td>...</td>\n",
       "      <td>...</td>\n",
       "      <td>...</td>\n",
       "      <td>...</td>\n",
       "      <td>...</td>\n",
       "      <td>...</td>\n",
       "      <td>...</td>\n",
       "      <td>...</td>\n",
       "      <td>...</td>\n",
       "      <td>...</td>\n",
       "    </tr>\n",
       "    <tr>\n",
       "      <th>999995</th>\n",
       "      <td>62319</td>\n",
       "      <td>92149</td>\n",
       "      <td>13119</td>\n",
       "      <td>69062</td>\n",
       "      <td>7202</td>\n",
       "      <td>90170</td>\n",
       "      <td>70000</td>\n",
       "      <td>80803</td>\n",
       "      <td>45661</td>\n",
       "      <td>92033</td>\n",
       "    </tr>\n",
       "    <tr>\n",
       "      <th>999996</th>\n",
       "      <td>55501</td>\n",
       "      <td>80313</td>\n",
       "      <td>74545</td>\n",
       "      <td>74088</td>\n",
       "      <td>4019</td>\n",
       "      <td>66289</td>\n",
       "      <td>44835</td>\n",
       "      <td>38897</td>\n",
       "      <td>36696</td>\n",
       "      <td>34321</td>\n",
       "    </tr>\n",
       "    <tr>\n",
       "      <th>999997</th>\n",
       "      <td>6905</td>\n",
       "      <td>49607</td>\n",
       "      <td>44676</td>\n",
       "      <td>8120</td>\n",
       "      <td>52054</td>\n",
       "      <td>76334</td>\n",
       "      <td>58228</td>\n",
       "      <td>13916</td>\n",
       "      <td>2438</td>\n",
       "      <td>22003</td>\n",
       "    </tr>\n",
       "    <tr>\n",
       "      <th>999998</th>\n",
       "      <td>86062</td>\n",
       "      <td>21539</td>\n",
       "      <td>38819</td>\n",
       "      <td>52101</td>\n",
       "      <td>56854</td>\n",
       "      <td>88275</td>\n",
       "      <td>60071</td>\n",
       "      <td>16037</td>\n",
       "      <td>91133</td>\n",
       "      <td>99156</td>\n",
       "    </tr>\n",
       "    <tr>\n",
       "      <th>999999</th>\n",
       "      <td>1227</td>\n",
       "      <td>25270</td>\n",
       "      <td>87445</td>\n",
       "      <td>35892</td>\n",
       "      <td>88481</td>\n",
       "      <td>60590</td>\n",
       "      <td>64959</td>\n",
       "      <td>81788</td>\n",
       "      <td>94655</td>\n",
       "      <td>41369</td>\n",
       "    </tr>\n",
       "  </tbody>\n",
       "</table>\n",
       "<p>100 rows × 10 columns</p>\n",
       "</div>"
      ],
      "text/plain": [
       "            A      B      C      D      E      F      G      H      I      J\n",
       "999900  98281  41502  49877  80921   8065  23488  35587  42083  56840  56227\n",
       "999901  37619  20477  61542  63058  81063  78206  29453  30271  60031  58651\n",
       "999902  72632  39510  22331   7813   6913  70018  64631   3664  43421   8763\n",
       "999903  56431  84921  62941  35817  65902   2915  85993   7202  84318  11904\n",
       "999904  53312  17729  65510  46363  24543  59926  58930  10492  41404  50710\n",
       "...       ...    ...    ...    ...    ...    ...    ...    ...    ...    ...\n",
       "999995  62319  92149  13119  69062   7202  90170  70000  80803  45661  92033\n",
       "999996  55501  80313  74545  74088   4019  66289  44835  38897  36696  34321\n",
       "999997   6905  49607  44676   8120  52054  76334  58228  13916   2438  22003\n",
       "999998  86062  21539  38819  52101  56854  88275  60071  16037  91133  99156\n",
       "999999   1227  25270  87445  35892  88481  60590  64959  81788  94655  41369\n",
       "\n",
       "[100 rows x 10 columns]"
      ]
     },
     "execution_count": 6,
     "metadata": {},
     "output_type": "execute_result"
    }
   ],
   "source": [
    "df.tail(100)"
   ]
  },
  {
   "cell_type": "code",
   "execution_count": 8,
   "metadata": {},
   "outputs": [
    {
     "data": {
      "text/html": [
       "<div>\n",
       "<style scoped>\n",
       "    .dataframe tbody tr th:only-of-type {\n",
       "        vertical-align: middle;\n",
       "    }\n",
       "\n",
       "    .dataframe tbody tr th {\n",
       "        vertical-align: top;\n",
       "    }\n",
       "\n",
       "    .dataframe thead th {\n",
       "        text-align: right;\n",
       "    }\n",
       "</style>\n",
       "<table border=\"1\" class=\"dataframe\">\n",
       "  <thead>\n",
       "    <tr style=\"text-align: right;\">\n",
       "      <th></th>\n",
       "      <th>A</th>\n",
       "      <th>B</th>\n",
       "      <th>C</th>\n",
       "      <th>D</th>\n",
       "      <th>E</th>\n",
       "      <th>F</th>\n",
       "      <th>G</th>\n",
       "      <th>H</th>\n",
       "      <th>I</th>\n",
       "      <th>J</th>\n",
       "    </tr>\n",
       "  </thead>\n",
       "  <tbody>\n",
       "    <tr>\n",
       "      <th>220712</th>\n",
       "      <td>40914</td>\n",
       "      <td>36730</td>\n",
       "      <td>94363</td>\n",
       "      <td>91907</td>\n",
       "      <td>54454</td>\n",
       "      <td>58212</td>\n",
       "      <td>94924</td>\n",
       "      <td>74458</td>\n",
       "      <td>46059</td>\n",
       "      <td>13167</td>\n",
       "    </tr>\n",
       "    <tr>\n",
       "      <th>41692</th>\n",
       "      <td>69055</td>\n",
       "      <td>20627</td>\n",
       "      <td>67214</td>\n",
       "      <td>28982</td>\n",
       "      <td>71295</td>\n",
       "      <td>91172</td>\n",
       "      <td>21647</td>\n",
       "      <td>18591</td>\n",
       "      <td>4795</td>\n",
       "      <td>98742</td>\n",
       "    </tr>\n",
       "    <tr>\n",
       "      <th>759982</th>\n",
       "      <td>8926</td>\n",
       "      <td>68817</td>\n",
       "      <td>24452</td>\n",
       "      <td>88061</td>\n",
       "      <td>20046</td>\n",
       "      <td>61814</td>\n",
       "      <td>23821</td>\n",
       "      <td>68996</td>\n",
       "      <td>99888</td>\n",
       "      <td>27259</td>\n",
       "    </tr>\n",
       "    <tr>\n",
       "      <th>680412</th>\n",
       "      <td>73009</td>\n",
       "      <td>56025</td>\n",
       "      <td>81795</td>\n",
       "      <td>93765</td>\n",
       "      <td>822</td>\n",
       "      <td>11288</td>\n",
       "      <td>40106</td>\n",
       "      <td>6308</td>\n",
       "      <td>89620</td>\n",
       "      <td>71814</td>\n",
       "    </tr>\n",
       "    <tr>\n",
       "      <th>375715</th>\n",
       "      <td>57763</td>\n",
       "      <td>9640</td>\n",
       "      <td>10277</td>\n",
       "      <td>23956</td>\n",
       "      <td>92666</td>\n",
       "      <td>28205</td>\n",
       "      <td>51212</td>\n",
       "      <td>29204</td>\n",
       "      <td>35952</td>\n",
       "      <td>13713</td>\n",
       "    </tr>\n",
       "    <tr>\n",
       "      <th>168440</th>\n",
       "      <td>49464</td>\n",
       "      <td>60544</td>\n",
       "      <td>7043</td>\n",
       "      <td>70929</td>\n",
       "      <td>28629</td>\n",
       "      <td>17079</td>\n",
       "      <td>46489</td>\n",
       "      <td>27552</td>\n",
       "      <td>35428</td>\n",
       "      <td>31451</td>\n",
       "    </tr>\n",
       "    <tr>\n",
       "      <th>844725</th>\n",
       "      <td>1188</td>\n",
       "      <td>69528</td>\n",
       "      <td>95209</td>\n",
       "      <td>31513</td>\n",
       "      <td>8487</td>\n",
       "      <td>16122</td>\n",
       "      <td>85862</td>\n",
       "      <td>596</td>\n",
       "      <td>19040</td>\n",
       "      <td>48875</td>\n",
       "    </tr>\n",
       "    <tr>\n",
       "      <th>539738</th>\n",
       "      <td>27211</td>\n",
       "      <td>71365</td>\n",
       "      <td>73216</td>\n",
       "      <td>38186</td>\n",
       "      <td>73472</td>\n",
       "      <td>40994</td>\n",
       "      <td>87071</td>\n",
       "      <td>14007</td>\n",
       "      <td>77667</td>\n",
       "      <td>88326</td>\n",
       "    </tr>\n",
       "    <tr>\n",
       "      <th>504067</th>\n",
       "      <td>33429</td>\n",
       "      <td>39112</td>\n",
       "      <td>50858</td>\n",
       "      <td>43831</td>\n",
       "      <td>81678</td>\n",
       "      <td>89823</td>\n",
       "      <td>62379</td>\n",
       "      <td>27978</td>\n",
       "      <td>62334</td>\n",
       "      <td>71939</td>\n",
       "    </tr>\n",
       "    <tr>\n",
       "      <th>72962</th>\n",
       "      <td>20322</td>\n",
       "      <td>72962</td>\n",
       "      <td>60611</td>\n",
       "      <td>52266</td>\n",
       "      <td>64019</td>\n",
       "      <td>3717</td>\n",
       "      <td>93923</td>\n",
       "      <td>30903</td>\n",
       "      <td>5145</td>\n",
       "      <td>96787</td>\n",
       "    </tr>\n",
       "  </tbody>\n",
       "</table>\n",
       "</div>"
      ],
      "text/plain": [
       "            A      B      C      D      E      F      G      H      I      J\n",
       "220712  40914  36730  94363  91907  54454  58212  94924  74458  46059  13167\n",
       "41692   69055  20627  67214  28982  71295  91172  21647  18591   4795  98742\n",
       "759982   8926  68817  24452  88061  20046  61814  23821  68996  99888  27259\n",
       "680412  73009  56025  81795  93765    822  11288  40106   6308  89620  71814\n",
       "375715  57763   9640  10277  23956  92666  28205  51212  29204  35952  13713\n",
       "168440  49464  60544   7043  70929  28629  17079  46489  27552  35428  31451\n",
       "844725   1188  69528  95209  31513   8487  16122  85862    596  19040  48875\n",
       "539738  27211  71365  73216  38186  73472  40994  87071  14007  77667  88326\n",
       "504067  33429  39112  50858  43831  81678  89823  62379  27978  62334  71939\n",
       "72962   20322  72962  60611  52266  64019   3717  93923  30903   5145  96787"
      ]
     },
     "execution_count": 8,
     "metadata": {},
     "output_type": "execute_result"
    }
   ],
   "source": [
    "df.sample(10)"
   ]
  },
  {
   "cell_type": "markdown",
   "metadata": {},
   "source": [
    "Intro Sobre Métodos de String"
   ]
  },
  {
   "cell_type": "code",
   "execution_count": 9,
   "metadata": {},
   "outputs": [],
   "source": [
    "texto = 'texto'"
   ]
  },
  {
   "cell_type": "code",
   "execution_count": 10,
   "metadata": {},
   "outputs": [
    {
     "data": {
      "text/plain": [
       "'otxet'"
      ]
     },
     "execution_count": 10,
     "metadata": {},
     "output_type": "execute_result"
    }
   ],
   "source": [
    "texto[::-1]"
   ]
  },
  {
   "cell_type": "code",
   "execution_count": 11,
   "metadata": {},
   "outputs": [],
   "source": [
    "palindromo = 'apos a sopa'"
   ]
  },
  {
   "cell_type": "code",
   "execution_count": 12,
   "metadata": {},
   "outputs": [
    {
     "data": {
      "text/plain": [
       "'apos a sopa'"
      ]
     },
     "execution_count": 12,
     "metadata": {},
     "output_type": "execute_result"
    }
   ],
   "source": [
    "palindromo[::-1]"
   ]
  },
  {
   "cell_type": "code",
   "execution_count": 13,
   "metadata": {},
   "outputs": [
    {
     "data": {
      "text/plain": [
       "'Texto'"
      ]
     },
     "execution_count": 13,
     "metadata": {},
     "output_type": "execute_result"
    }
   ],
   "source": [
    "texto = 'texto'\n",
    "texto.capitalize()"
   ]
  },
  {
   "cell_type": "code",
   "execution_count": 14,
   "metadata": {},
   "outputs": [
    {
     "data": {
      "text/plain": [
       "'texto'"
      ]
     },
     "execution_count": 14,
     "metadata": {},
     "output_type": "execute_result"
    }
   ],
   "source": [
    "texto.lower()"
   ]
  },
  {
   "cell_type": "code",
   "execution_count": 25,
   "metadata": {},
   "outputs": [
    {
     "data": {
      "text/plain": [
       "'TEXTO'"
      ]
     },
     "execution_count": 25,
     "metadata": {},
     "output_type": "execute_result"
    }
   ],
   "source": [
    "texto.upper()"
   ]
  },
  {
   "cell_type": "code",
   "execution_count": 24,
   "metadata": {},
   "outputs": [
    {
     "data": {
      "text/plain": [
       "2"
      ]
     },
     "execution_count": 24,
     "metadata": {},
     "output_type": "execute_result"
    }
   ],
   "source": [
    "texto.find('x')"
   ]
  },
  {
   "cell_type": "code",
   "execution_count": 23,
   "metadata": {},
   "outputs": [
    {
     "data": {
      "text/plain": [
       "'x'"
      ]
     },
     "execution_count": 23,
     "metadata": {},
     "output_type": "execute_result"
    }
   ],
   "source": [
    "texto[2]"
   ]
  },
  {
   "cell_type": "code",
   "execution_count": 26,
   "metadata": {},
   "outputs": [
    {
     "data": {
      "text/plain": [
       "'texto'"
      ]
     },
     "execution_count": 26,
     "metadata": {},
     "output_type": "execute_result"
    }
   ],
   "source": [
    "texto.replace('XTO', 'sta')"
   ]
  }
 ],
 "metadata": {
  "kernelspec": {
   "display_name": "Python 3",
   "language": "python",
   "name": "python3"
  },
  "language_info": {
   "codemirror_mode": {
    "name": "ipython",
    "version": 3
   },
   "file_extension": ".py",
   "mimetype": "text/x-python",
   "name": "python",
   "nbconvert_exporter": "python",
   "pygments_lexer": "ipython3",
   "version": "3.11.4"
  },
  "orig_nbformat": 4
 },
 "nbformat": 4,
 "nbformat_minor": 2
}
